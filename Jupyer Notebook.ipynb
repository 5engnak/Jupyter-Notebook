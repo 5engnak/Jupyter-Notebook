{
 "cells": [
  {
   "cell_type": "markdown",
   "id": "e5e8ca9d",
   "metadata": {},
   "source": [
    "## markdown"
   ]
  },
  {
   "cell_type": "markdown",
   "id": "d7183e41",
   "metadata": {},
   "source": [
    "#### Introduction"
   ]
  },
  {
   "cell_type": "markdown",
   "id": "c3e2bf46",
   "metadata": {},
   "source": [
    "#### Data Science Language \n",
    "\n",
    "- Python\n",
    "- R"
   ]
  },
  {
   "cell_type": "markdown",
   "id": "c10eb67d",
   "metadata": {},
   "source": [
    "##### Data Science Libraries\n",
    "\n",
    "- TensorFlow  \n",
    "- NumPy  \n",
    "- SciPy   \n",
    "- Pandas  \n",
    "- Matplotlib   \n",
    "- Keras  \n",
    "- SciKit-Learn   \n",
    "- PyTorch  \n",
    "- Scrapy  \n",
    "- BeautifulSoup   \n",
    "- LightGBM  \n",
    "- ELI5   \n",
    "- Theano   \n",
    "- NuPIC  \n",
    "- Ramp \n",
    "- Pipenv   \n",
    "- Bob  \n",
    "- PyBrain  \n",
    "- Caffe2  \n",
    "- Chainer  "
   ]
  },
  {
   "cell_type": "markdown",
   "id": "c47fc912",
   "metadata": {},
   "source": [
    "| Data Science Tool | Description |\n",
    "|---|---|\n",
    "| Python | A general-purpose programming language that is widely used in data science due to its large and comprehensive ecosystem of libraries for data manipulation, analysis, and machine learning. |\n",
    "| R | A programming language and software environment for statistical computing and graphics. R is particularly well-suited for data analysis and visualization. |\n",
    "| SQL | A standard language for accessing and manipulating data in relational databases. SQL is essential for working with large datasets that are stored in databases. |\n",
    "| Hadoop | An open-source software framework for distributed storage and processing of large datasets. Hadoop is well-suited for working with datasets that are too large to fit on a single machine. |\n",
    "| Spark | A unified analytics engine for large-scale data processing. Spark can be used for both batch and stream processing, and it is well-suited for working with a variety of data sources. |\n",
    "| TensorFlow | An open-source software library for machine learning. TensorFlow is widely used for building and training deep learning models. |\n",
    "| PyTorch | An open-source machine learning framework based on the Torch library. PyTorch is well-suited for natural language processing and computer vision tasks. |\n",
    "| scikit-learn | A Python library for machine learning. scikit-learn provides a wide range of machine learning algorithms and tools for data preprocessing, feature engineering, and model evaluation. |\n",
    "| Matplotlib | A Python library for data visualization. Matplotlib provides a wide range of plotting functions for creating charts, graphs, and other visualizations. |\n",
    "| Tableau | A data visualization software application. Tableau is well-suited for creating interactive data visualizations that can be easily shared with others. |\n",
    "| Jupyter Notebook | A web application that allows you to create and share documents that contain live code, equations, visualizations, and narrative text. Jupyter notebooks are a popular tool for data science because they allow you to combine code, data, and prose in a single document. |\n",
    "| BigQuery | A fully-managed, petabyte-scale analytics data warehouse that enables fast, easy, and cost-effective analysis of large datasets. |\n",
    "| Redshift | A fully managed, petabyte-scale data warehouse that can be used for storing and analyzing large datasets. |\n",
    "| Snowflake | A cloud-based data warehouse that can be used for storing and analyzing large datasets. |\n",
    "| Google Cloud Dataproc | A fully-managed Hadoop and Spark service that makes it easy to run large-scale data processing jobs on Google Cloud Platform. |\n",
    "| Amazon EMR | A managed Hadoop framework that makes it easy to run large-scale data processing jobs on Amazon Web Services. |\n",
    "| Microsoft Azure HDInsight | A managed Hadoop framework that makes it easy to run large-scale data processing jobs on Microsoft Azure. |\n"
   ]
  },
  {
   "cell_type": "markdown",
   "id": "03dd0207",
   "metadata": {},
   "source": [
    "# Arithmetic expression example in Jupyter notebook\n",
    "\n",
    "```python\n",
    "# Create variables\n",
    "a = 10\n",
    "b = 20\n",
    "\n",
    "# Arithmetic operations\n",
    "c = a + b  # Addition\n",
    "d = a - b  # Subtraction\n",
    "e = a * b  # Multiplication\n",
    "f = a / b  # Division\n",
    "g = a ** b  # Exponentiation\n",
    "\n",
    "# Print results\n",
    "print(\"Addition:\", c)\n",
    "print(\"Subtraction:\", d)\n",
    "print(\"Multiplication:\", e)\n",
    "print(\"Division:\", f)\n",
    "print(\"Exponentiation:\", g)\n"
   ]
  },
  {
   "cell_type": "code",
   "execution_count": 7,
   "id": "69ea4366",
   "metadata": {},
   "outputs": [
    {
     "name": "stdout",
     "output_type": "stream",
     "text": [
      "4\n",
      "3\n"
     ]
    }
   ],
   "source": [
    "x=1\n",
    "y = 3\n",
    "\n",
    "print(x+y)\n",
    "print(x*y)"
   ]
  },
  {
   "cell_type": "code",
   "execution_count": 9,
   "id": "e52feec3",
   "metadata": {},
   "outputs": [
    {
     "name": "stdout",
     "output_type": "stream",
     "text": [
      "0.5\n"
     ]
    }
   ],
   "source": [
    "t = 30 \n",
    "h = t/60\n",
    "print(h)"
   ]
  },
  {
   "cell_type": "markdown",
   "id": "67ee0f9c",
   "metadata": {},
   "source": [
    "Authors\n",
    "\n",
    "- Lakshmi Holla\n",
    "\n",
    "- Niveditha Pandith"
   ]
  },
  {
   "cell_type": "code",
   "execution_count": null,
   "id": "4c0c6f57",
   "metadata": {},
   "outputs": [],
   "source": []
  }
 ],
 "metadata": {
  "kernelspec": {
   "display_name": "Python 3 (ipykernel)",
   "language": "python",
   "name": "python3"
  },
  "language_info": {
   "codemirror_mode": {
    "name": "ipython",
    "version": 3
   },
   "file_extension": ".py",
   "mimetype": "text/x-python",
   "name": "python",
   "nbconvert_exporter": "python",
   "pygments_lexer": "ipython3",
   "version": "3.9.13"
  }
 },
 "nbformat": 4,
 "nbformat_minor": 5
}
